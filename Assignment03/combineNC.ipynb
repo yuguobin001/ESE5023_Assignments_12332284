{
 "cells": [
  {
   "cell_type": "code",
   "execution_count": null,
   "id": "0addef1a",
   "metadata": {},
   "outputs": [],
   "source": [
    "import os\n",
    "import xarray as xr\n",
    "# 指定文件夹路径\n",
    "folder_path = 'C:/Users/LittleFish/Desktop/ese5020/nc'\n",
    "output_folder = 'C:/Users/LittleFish/Desktop/ese5020/cmb'\n",
    "nc_files = [f for f in os.listdir(folder_path) if f.endswith('.nc4')]\n",
    "ds_list = [xr.open_dataset(os.path.join(folder_path, nc_file)) for nc_file in nc_files]\n",
    "combined_ds = xr.concat(ds_list, dim=\"time\")\n",
    "# 保存合并后的数据集为nc文件\n",
    "output_file = os.path.join(output_folder, f\"precip.nc\")\n",
    "combined_ds.to_netcdf(output_file)"
   ]
  }
 ],
 "metadata": {
  "kernelspec": {
   "display_name": "Python 3 (ipykernel)",
   "language": "python",
   "name": "python3"
  },
  "language_info": {
   "codemirror_mode": {
    "name": "ipython",
    "version": 3
   },
   "file_extension": ".py",
   "mimetype": "text/x-python",
   "name": "python",
   "nbconvert_exporter": "python",
   "pygments_lexer": "ipython3",
   "version": "3.9.12"
  },
  "toc": {
   "base_numbering": 1,
   "nav_menu": {},
   "number_sections": true,
   "sideBar": true,
   "skip_h1_title": false,
   "title_cell": "Table of Contents",
   "title_sidebar": "Contents",
   "toc_cell": false,
   "toc_position": {},
   "toc_section_display": true,
   "toc_window_display": false
  }
 },
 "nbformat": 4,
 "nbformat_minor": 5
}
